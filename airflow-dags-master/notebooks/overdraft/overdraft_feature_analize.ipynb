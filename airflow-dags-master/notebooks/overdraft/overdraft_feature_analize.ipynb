{
 "cells": [
  {
   "cell_type": "code",
   "execution_count": null,
   "id": "6f3158b6",
   "metadata": {},
   "outputs": [],
   "source": [
    "import pickle\n",
    "import warnings\n",
    "\n",
    "import boto3\n",
    "import numpy as np\n",
    "import pandas as pd\n",
    "import seaborn as sns\n",
    "import snowflake.connector as sf\n",
    "from sklearn import metrics\n",
    "from sklearn.metrics import classification_report\n",
    "from sklearn.metrics import confusion_matrix\n",
    "\n",
    "\n",
    "import os\n",
    "from dotenv import load_dotenv\n",
    "\n",
    "load_dotenv(\"../../.env\")\n",
    "from common import configuration"
   ]
  },
  {
   "cell_type": "code",
   "execution_count": null,
   "id": "03ccd62d",
   "metadata": {},
   "outputs": [],
   "source": [
    "#set preferances\n",
    "\n",
    "pd.options.display.max_columns = None\n",
    "pd.set_option('display.float_format', lambda x: '%.3f' % x)\n",
    "warnings.filterwarnings(action='once')\n",
    "sns.set(rc={'axes.facecolor':'white', 'figure.facecolor':'white'})\n",
    "sns.set_style(\"darkgrid\")"
   ]
  },
  {
   "cell_type": "code",
   "execution_count": null,
   "id": "67393657",
   "metadata": {},
   "outputs": [],
   "source": [
    "feats = pd.read_csv(\"../../../feats.csv\", header=None)\n",
    "data = pd.read_csv(\"../../../output.csv\", header=None)\n",
    "feats = feats.drop([0], axis=1)\n",
    "feats"
   ]
  },
  {
   "cell_type": "code",
   "execution_count": null,
   "id": "dbf52f84",
   "metadata": {},
   "outputs": [],
   "source": [
    "BUCKET = 'lili-ml-tests'\n",
    "DAG = 'test-dag'\n",
    "EXECUTION_DATE = '2020-07-11T07:19:58.478946+00:00'\n",
    "config = configuration.Config(dag=DAG,\n",
    "                execution_date=EXECUTION_DATE,\n",
    "                snowflake_connection=None,\n",
    "                s3_connection=None,\n",
    "                stages_bucket=BUCKET,\n",
    "                models_bucket=None\n",
    "                )\n",
    "\n",
    "\n",
    "loaded_model = pickle.load(open('../../model_dumps/ODmodel_2021-08-02T08:11:52.106906.pkl', 'rb'))\n",
    "type(loaded_model)"
   ]
  },
  {
   "cell_type": "code",
   "execution_count": null,
   "id": "f5f4efb2",
   "metadata": {},
   "outputs": [],
   "source": [
    "features = np.array(feats)\n",
    "predictions = loaded_model.predict(config, features)\n",
    "preds = []\n",
    "#need to change results a bit\n",
    "predictions_to_overdraft = {\n",
    "    0: 0,\n",
    "    20: 1,\n",
    "    40: 2,\n",
    "    60: 3,\n",
    "    100: 4\n",
    "}\n",
    "\n",
    "\n",
    "for elt in predictions:\n",
    "    preds.append(predictions_to_overdraft[elt[0]])\n"
   ]
  },
  {
   "cell_type": "code",
   "execution_count": null,
   "id": "76431c29",
   "metadata": {},
   "outputs": [],
   "source": [
    "count = [0,0,0,0,0]\n",
    "for elt in preds:\n",
    "    count[elt]=count[elt]+1\n",
    "print(count)      "
   ]
  },
  {
   "cell_type": "code",
   "execution_count": null,
   "id": "76ad4512",
   "metadata": {},
   "outputs": [],
   "source": [
    "data[data[1]==100].shape"
   ]
  },
  {
   "cell_type": "code",
   "execution_count": null,
   "id": "f92e435a",
   "metadata": {},
   "outputs": [],
   "source": [
    "#counting indices of 100 in order to be more careful there\n",
    "hun_ind = []\n",
    "for i in range(0,len(preds)):\n",
    "    if preds[i]==4:\n",
    "        hun_ind.append(i)\n",
    "        \n",
    "print(hun_ind)"
   ]
  },
  {
   "cell_type": "code",
   "execution_count": null,
   "id": "a62d3d3d",
   "metadata": {},
   "outputs": [],
   "source": [
    "loaded_model.predict(config, [features[50]])"
   ]
  },
  {
   "cell_type": "code",
   "execution_count": null,
   "id": "c8c088fc",
   "metadata": {},
   "outputs": [],
   "source": [
    "(loaded_model.predict_proba(config, [features[50]]))[0][4]"
   ]
  },
  {
   "cell_type": "code",
   "execution_count": null,
   "id": "6e9040c9",
   "metadata": {},
   "outputs": [],
   "source": [
    "hun_probs = []\n",
    "for i in range(0,len(hun_ind)):\n",
    "    a = (loaded_model.predict_proba(config, [features[hun_ind[i]]]))[0][4]\n",
    "    hun_probs.append(a)\n",
    "        \n",
    "        \n",
    "hun_probs = np.array(hun_probs)\n",
    "#print(np.sort(hun_probs))\n",
    "print(np.median(hun_probs))"
   ]
  },
  {
   "cell_type": "code",
   "execution_count": null,
   "id": "da3b8087",
   "metadata": {},
   "outputs": [],
   "source": [
    "#decided to use this threshold\n",
    "from overdraft_prediction.fine_tuner import FineTuner, ThresholdType, ActionType\n",
    "finetune = FineTuner(4, 0.513, ThresholdType.LESS_THAN, ActionType.NEXT_BEST)"
   ]
  },
  {
   "cell_type": "code",
   "execution_count": null,
   "id": "cc70f373",
   "metadata": {},
   "outputs": [],
   "source": [
    "from overdraft_prediction.model import ODModel\n",
    "\n",
    "model_tune = ODModel(loaded_model.model, finetune)\n",
    "\n",
    "features = np.array(feats)\n",
    "predictions = model_tune.predict(config, features)\n",
    "preds = []\n",
    "#need to change results a bit\n",
    "\n",
    "for elt in predictions:\n",
    "    preds.append(predictions_to_overdraft[elt[0]])\n",
    "\n",
    "count = [0,0,0,0,0]\n",
    "for elt in preds:\n",
    "    count[elt]=count[elt]+1\n",
    "print(count)  "
   ]
  },
  {
   "cell_type": "code",
   "execution_count": null,
   "id": "cd279768",
   "metadata": {},
   "outputs": [],
   "source": [
    "[280250, 1344, 228, 651, 428]"
   ]
  }
 ],
 "metadata": {
  "kernelspec": {
   "display_name": "Python 3 (ipykernel)",
   "language": "python",
   "name": "python3"
  },
  "language_info": {
   "codemirror_mode": {
    "name": "ipython",
    "version": 3
   },
   "file_extension": ".py",
   "mimetype": "text/x-python",
   "name": "python",
   "nbconvert_exporter": "python",
   "pygments_lexer": "ipython3",
   "version": "3.9.2"
  }
 },
 "nbformat": 4,
 "nbformat_minor": 5
}
